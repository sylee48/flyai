{
 "cells": [
  {
   "cell_type": "markdown",
   "id": "91961ff8-8f25-4aea-8266-8bd4cd3faae1",
   "metadata": {},
   "source": [
    "# Numpy"
   ]
  },
  {
   "cell_type": "code",
   "execution_count": 77,
   "id": "58bd5682-4810-4275-bd72-00704dc61a51",
   "metadata": {},
   "outputs": [
    {
     "data": {
      "text/plain": [
       "'1.23.4'"
      ]
     },
     "execution_count": 77,
     "metadata": {},
     "output_type": "execute_result"
    }
   ],
   "source": [
    "import numpy as np\n",
    "np.__version__"
   ]
  },
  {
   "cell_type": "code",
   "execution_count": null,
   "id": "983ec637-3be1-48ac-a32b-f37606e8f826",
   "metadata": {},
   "outputs": [],
   "source": [
    "john = [ 10, 8, 6, 7]\n",
    "x = numpy.array(john)"
   ]
  },
  {
   "cell_type": "code",
   "execution_count": null,
   "id": "9bc9d657-bf63-4089-8591-90a45a4d782e",
   "metadata": {},
   "outputs": [],
   "source": [
    "john + 1"
   ]
  },
  {
   "cell_type": "code",
   "execution_count": null,
   "id": "56054e1b-f305-4381-b9c6-094f4543ffce",
   "metadata": {},
   "outputs": [],
   "source": [
    "scores = [[1, 2, 3, 4], \n",
    "         [5, 6, 7, 8]]\n",
    "X = np.array(scores)\n",
    "X"
   ]
  },
  {
   "cell_type": "code",
   "execution_count": null,
   "id": "ffa35463-ebf5-463c-8580-bae2f963432e",
   "metadata": {},
   "outputs": [],
   "source": [
    "scores = [[1, 2, 3, 4], \n",
    "         [5, 6, 7, 8]]\n",
    "X = numpy.array(scores)\n",
    "X"
   ]
  },
  {
   "cell_type": "code",
   "execution_count": null,
   "id": "37f70899-f99f-4611-9bee-d7a08a90c847",
   "metadata": {},
   "outputs": [],
   "source": [
    "import numpy as np\n",
    "\n",
    "numpy.__version__"
   ]
  },
  {
   "cell_type": "code",
   "execution_count": null,
   "id": "00f93f75-6642-495e-9a5f-421b1eb71b06",
   "metadata": {},
   "outputs": [],
   "source": [
    "scores = [[1, 2, 3, 4], \n",
    "         [5, 6, 7, 8]]\n",
    "X = np.array(scores)\n",
    "X"
   ]
  },
  {
   "cell_type": "code",
   "execution_count": null,
   "id": "74994907-2486-47e4-897e-b0e98f122912",
   "metadata": {},
   "outputs": [],
   "source": [
    "X.shape"
   ]
  },
  {
   "cell_type": "code",
   "execution_count": null,
   "id": "66ea19e7-1707-4c14-83b8-2576079dc59a",
   "metadata": {},
   "outputs": [],
   "source": [
    "X.dtype"
   ]
  },
  {
   "cell_type": "code",
   "execution_count": null,
   "id": "736bd73f-ea3a-4995-933a-b354028ad26e",
   "metadata": {},
   "outputs": [],
   "source": [
    "type((4,)), type((4))"
   ]
  },
  {
   "cell_type": "code",
   "execution_count": 2,
   "id": "37f920b7-4f69-491c-a2f7-115d82785a30",
   "metadata": {},
   "outputs": [
    {
     "data": {
      "text/plain": [
       "'1.23.4'"
      ]
     },
     "execution_count": 2,
     "metadata": {},
     "output_type": "execute_result"
    }
   ],
   "source": [
    "import numpy as np\n",
    "\n",
    "np.__version__"
   ]
  },
  {
   "cell_type": "code",
   "execution_count": 3,
   "id": "e9216a77-63e2-4267-9799-96f02c110427",
   "metadata": {},
   "outputs": [
    {
     "data": {
      "text/plain": [
       "array([[ 1,  2,  3,  4],\n",
       "       [ 5,  6,  7,  8],\n",
       "       [ 9, 10, 11, 12],\n",
       "       [13, 14, 15, 16]])"
      ]
     },
     "execution_count": 3,
     "metadata": {},
     "output_type": "execute_result"
    }
   ],
   "source": [
    "scores = [[1, 2, 3, 4], \n",
    "         [5, 6, 7, 8],\n",
    "         [9, 10, 11, 12],\n",
    "         [13, 14, 15, 16]]\n",
    "X = np.array(scores)\n",
    "X"
   ]
  },
  {
   "cell_type": "code",
   "execution_count": 5,
   "id": "99b43404-6568-42c0-a70f-8ff9945f89ec",
   "metadata": {},
   "outputs": [
    {
     "data": {
      "text/plain": [
       "'1.23.4'"
      ]
     },
     "execution_count": 5,
     "metadata": {},
     "output_type": "execute_result"
    }
   ],
   "source": [
    "import numpy\n",
    "\n",
    "numpy.__version__"
   ]
  },
  {
   "cell_type": "code",
   "execution_count": 6,
   "id": "9499962c-e2e7-4ad1-92a9-597c4251149b",
   "metadata": {},
   "outputs": [
    {
     "data": {
      "text/plain": [
       "array([[ 1,  2,  3,  4],\n",
       "       [ 5,  6,  7,  8],\n",
       "       [ 9, 10, 11, 12],\n",
       "       [13, 14, 15, 16]])"
      ]
     },
     "execution_count": 6,
     "metadata": {},
     "output_type": "execute_result"
    }
   ],
   "source": [
    "scores = [[1, 2, 3, 4], \n",
    "         [5, 6, 7, 8],\n",
    "         [9, 10, 11, 12],\n",
    "         [13, 14, 15, 16]]\n",
    "X = numpy.array(scores)\n",
    "X"
   ]
  },
  {
   "cell_type": "code",
   "execution_count": 7,
   "id": "a5c39b49-9271-4a43-81d7-099662b8d163",
   "metadata": {},
   "outputs": [
    {
     "data": {
      "text/plain": [
       "(4, 4)"
      ]
     },
     "execution_count": 7,
     "metadata": {},
     "output_type": "execute_result"
    }
   ],
   "source": [
    "X.shape"
   ]
  },
  {
   "cell_type": "code",
   "execution_count": 11,
   "id": "7af0f999-c67b-4683-b3cf-b37e8f1ceee6",
   "metadata": {},
   "outputs": [
    {
     "data": {
      "text/plain": [
       "array([[ 0,  1,  2,  3],\n",
       "       [ 4,  5,  6,  7],\n",
       "       [ 8,  9, 10, 11],\n",
       "       [12, 13, 14, 15]])"
      ]
     },
     "execution_count": 11,
     "metadata": {},
     "output_type": "execute_result"
    }
   ],
   "source": [
    "scores = [[0, 1, 2, 3], \n",
    "         [4, 5, 6, 7],\n",
    "         [8, 9, 10, 11],\n",
    "         [12, 13, 14, 15]]\n",
    "X = numpy.array(scores)\n",
    "X"
   ]
  },
  {
   "cell_type": "code",
   "execution_count": 13,
   "id": "ebc7eefa-4994-422b-9bb9-350c86582097",
   "metadata": {},
   "outputs": [
    {
     "data": {
      "text/plain": [
       "(2, 4, 2)"
      ]
     },
     "execution_count": 13,
     "metadata": {},
     "output_type": "execute_result"
    }
   ],
   "source": [
    "X.shape"
   ]
  },
  {
   "cell_type": "code",
   "execution_count": 22,
   "id": "c8afc7fb-e7b5-4112-b383-a41e04416c1f",
   "metadata": {},
   "outputs": [
    {
     "data": {
      "text/plain": [
       "array([[4, 5, 6],\n",
       "       [8, 9, 0]])"
      ]
     },
     "execution_count": 22,
     "metadata": {},
     "output_type": "execute_result"
    }
   ],
   "source": [
    "X = numpy.array([[4, 5, 6], \n",
    "                [8, 9, 0]])\n",
    "\n",
    "X"
   ]
  },
  {
   "cell_type": "code",
   "execution_count": 23,
   "id": "be3af6cc-1a5e-4884-9856-523e2c895304",
   "metadata": {},
   "outputs": [
    {
     "data": {
      "text/plain": [
       "array([8, 9, 0])"
      ]
     },
     "execution_count": 23,
     "metadata": {},
     "output_type": "execute_result"
    }
   ],
   "source": [
    "X[-1]"
   ]
  },
  {
   "cell_type": "code",
   "execution_count": 27,
   "id": "3d8cd3cc-4a8e-4c93-86b9-b68fe7c676a3",
   "metadata": {},
   "outputs": [
    {
     "data": {
      "text/plain": [
       "array([5, 6])"
      ]
     },
     "execution_count": 27,
     "metadata": {},
     "output_type": "execute_result"
    }
   ],
   "source": [
    "X[0, [1, 2]]"
   ]
  },
  {
   "cell_type": "code",
   "execution_count": 31,
   "id": "be928302-b9d8-4685-a5d0-d9dda0e1e314",
   "metadata": {},
   "outputs": [
    {
     "data": {
      "text/plain": [
       "array([5, 6])"
      ]
     },
     "execution_count": 31,
     "metadata": {},
     "output_type": "execute_result"
    }
   ],
   "source": [
    "# fancy indexing\n",
    "X[0, [1, 2]]"
   ]
  },
  {
   "cell_type": "code",
   "execution_count": 32,
   "id": "2ef2d5ae-e443-4ad8-b1c5-5f489cf53aed",
   "metadata": {},
   "outputs": [
    {
     "data": {
      "text/plain": [
       "array([5, 6])"
      ]
     },
     "execution_count": 32,
     "metadata": {},
     "output_type": "execute_result"
    }
   ],
   "source": [
    "X[0, 1:]"
   ]
  },
  {
   "cell_type": "code",
   "execution_count": 34,
   "id": "b938964a-0b83-4f3f-a633-b29aba94d101",
   "metadata": {},
   "outputs": [
    {
     "data": {
      "text/plain": [
       "array([2, 4])"
      ]
     },
     "execution_count": 34,
     "metadata": {},
     "output_type": "execute_result"
    }
   ],
   "source": [
    "# boolean indexing\n",
    "\n",
    "X = numpy.array([1, 2, 3, 4, 5])\n",
    "idx = [False, True, False, True, False,]\n",
    "X[idx]"
   ]
  },
  {
   "cell_type": "code",
   "execution_count": 35,
   "id": "fdca15ff-13a0-4f72-9fd2-87a79433865d",
   "metadata": {},
   "outputs": [
    {
     "data": {
      "text/plain": [
       "array([False, False, False,  True, False])"
      ]
     },
     "execution_count": 35,
     "metadata": {},
     "output_type": "execute_result"
    }
   ],
   "source": [
    "X = np.array([1, 5, 3, 7, 6])\n",
    "\n",
    "X > 6"
   ]
  },
  {
   "cell_type": "code",
   "execution_count": 36,
   "id": "447258b8-a706-4f57-9299-393871130b5e",
   "metadata": {},
   "outputs": [
    {
     "data": {
      "text/plain": [
       "array([ True, False,  True, False, False])"
      ]
     },
     "execution_count": 36,
     "metadata": {},
     "output_type": "execute_result"
    }
   ],
   "source": [
    "X < 5"
   ]
  },
  {
   "cell_type": "code",
   "execution_count": 37,
   "id": "6c870144-91c3-4ee4-981c-918dffcf9ac8",
   "metadata": {},
   "outputs": [
    {
     "data": {
      "text/plain": [
       "array([7])"
      ]
     },
     "execution_count": 37,
     "metadata": {},
     "output_type": "execute_result"
    }
   ],
   "source": [
    "X = np.array([1, 5, 3, 7, 6])\n",
    "\n",
    "idx = X > 6\n",
    "X[idx]"
   ]
  },
  {
   "cell_type": "code",
   "execution_count": 38,
   "id": "b4c31bd8-e75b-48d1-849e-2f84d270131d",
   "metadata": {},
   "outputs": [
    {
     "data": {
      "text/plain": [
       "array([1, 3])"
      ]
     },
     "execution_count": 38,
     "metadata": {},
     "output_type": "execute_result"
    }
   ],
   "source": [
    "X = np.array([1, 5, 3, 7, 6])\n",
    "\n",
    "idx = X < 5\n",
    "X[idx]"
   ]
  },
  {
   "cell_type": "code",
   "execution_count": 42,
   "id": "9b0ea6a6-2d6a-4b6f-a23e-08c6966ea0ff",
   "metadata": {},
   "outputs": [
    {
     "data": {
      "text/plain": [
       "array([[1, 2, 3],\n",
       "       [3, 4, 5]])"
      ]
     },
     "execution_count": 42,
     "metadata": {},
     "output_type": "execute_result"
    }
   ],
   "source": [
    "X = numpy.array([[1, 2, 3], \n",
    "             [3, 4, 5]])\n",
    "X"
   ]
  },
  {
   "cell_type": "code",
   "execution_count": 43,
   "id": "117e78fb-0aef-47b2-bcb2-4049fde0fb14",
   "metadata": {},
   "outputs": [
    {
     "data": {
      "text/plain": [
       "18"
      ]
     },
     "execution_count": 43,
     "metadata": {},
     "output_type": "execute_result"
    }
   ],
   "source": [
    "numpy.sum(X)"
   ]
  },
  {
   "cell_type": "code",
   "execution_count": 48,
   "id": "22cbbb75-f21e-4302-ab71-db9d92a38575",
   "metadata": {},
   "outputs": [
    {
     "data": {
      "text/plain": [
       "array([ 6, 12])"
      ]
     },
     "execution_count": 48,
     "metadata": {},
     "output_type": "execute_result"
    }
   ],
   "source": [
    "numpy.sum(X, axis=1)"
   ]
  },
  {
   "cell_type": "code",
   "execution_count": 49,
   "id": "071837f6-1f9a-40b5-b0b8-e7f1cc79f7fd",
   "metadata": {},
   "outputs": [
    {
     "data": {
      "text/plain": [
       "3.0"
      ]
     },
     "execution_count": 49,
     "metadata": {},
     "output_type": "execute_result"
    }
   ],
   "source": [
    "numpy.mean(X)"
   ]
  },
  {
   "cell_type": "code",
   "execution_count": 50,
   "id": "7e8083ea-3437-4c41-b156-c632deab65e1",
   "metadata": {},
   "outputs": [
    {
     "data": {
      "text/plain": [
       "array([2., 3., 4.])"
      ]
     },
     "execution_count": 50,
     "metadata": {},
     "output_type": "execute_result"
    }
   ],
   "source": [
    "numpy.mean(X, axis=0)"
   ]
  },
  {
   "cell_type": "code",
   "execution_count": 51,
   "id": "c26c3390-d020-4a7e-a920-4d5783d07990",
   "metadata": {},
   "outputs": [
    {
     "data": {
      "text/plain": [
       "array([2., 4.])"
      ]
     },
     "execution_count": 51,
     "metadata": {},
     "output_type": "execute_result"
    }
   ],
   "source": [
    "numpy.mean(X, axis=1)"
   ]
  },
  {
   "cell_type": "code",
   "execution_count": 52,
   "id": "0f03473c-89a4-4613-8c96-d70c0c409684",
   "metadata": {},
   "outputs": [
    {
     "data": {
      "text/plain": [
       "array([2., 4.])"
      ]
     },
     "execution_count": 52,
     "metadata": {},
     "output_type": "execute_result"
    }
   ],
   "source": [
    "numpy.mean(X, axis=-1)"
   ]
  },
  {
   "cell_type": "code",
   "execution_count": 65,
   "id": "b05abf29-066e-4c27-bb26-7260ea9474dd",
   "metadata": {},
   "outputs": [
    {
     "data": {
      "text/plain": [
       "array([1, 2, 3])"
      ]
     },
     "execution_count": 65,
     "metadata": {},
     "output_type": "execute_result"
    }
   ],
   "source": [
    "X = numpy.array([1, 2, 3])\n",
    "X"
   ]
  },
  {
   "cell_type": "code",
   "execution_count": 66,
   "id": "0d7fd1f2-2bca-4676-9d69-201cf977432a",
   "metadata": {},
   "outputs": [
    {
     "data": {
      "text/plain": [
       "array([[0],\n",
       "       [1],\n",
       "       [2]])"
      ]
     },
     "execution_count": 66,
     "metadata": {},
     "output_type": "execute_result"
    }
   ],
   "source": [
    "X = numpy.array([[0], [1], [2]])\n",
    "X"
   ]
  },
  {
   "cell_type": "code",
   "execution_count": 70,
   "id": "b21a31f7-595c-4d0c-a845-0e5a876a1894",
   "metadata": {},
   "outputs": [
    {
     "data": {
      "text/plain": [
       "(3, 1)"
      ]
     },
     "execution_count": 70,
     "metadata": {},
     "output_type": "execute_result"
    }
   ],
   "source": [
    "X.shape"
   ]
  },
  {
   "cell_type": "code",
   "execution_count": 68,
   "id": "4132eda8-4df4-44a4-ab3f-3f5e8a7d6b4c",
   "metadata": {},
   "outputs": [
    {
     "data": {
      "text/plain": [
       "array([0, 1, 2])"
      ]
     },
     "execution_count": 68,
     "metadata": {},
     "output_type": "execute_result"
    }
   ],
   "source": [
    "y = numpy.array([0, 1, 2])\n",
    "y"
   ]
  },
  {
   "cell_type": "code",
   "execution_count": 69,
   "id": "a627e0a6-a38d-424f-a0f3-08179990c18b",
   "metadata": {},
   "outputs": [
    {
     "data": {
      "text/plain": [
       "array([[0, 1, 2],\n",
       "       [1, 2, 3],\n",
       "       [2, 3, 4]])"
      ]
     },
     "execution_count": 69,
     "metadata": {},
     "output_type": "execute_result"
    }
   ],
   "source": [
    "X + y"
   ]
  },
  {
   "cell_type": "code",
   "execution_count": 74,
   "id": "9af8335a-4f99-4f74-bcdb-f9512c0871a0",
   "metadata": {},
   "outputs": [
    {
     "data": {
      "text/plain": [
       "array([1, 2, 3])"
      ]
     },
     "execution_count": 74,
     "metadata": {},
     "output_type": "execute_result"
    }
   ],
   "source": [
    "X = numpy.array([1, 2, 3])\n",
    "X"
   ]
  },
  {
   "cell_type": "code",
   "execution_count": 75,
   "id": "ae1fe1bd-5e96-4d0a-b7bc-782cfd3fb8f4",
   "metadata": {},
   "outputs": [
    {
     "data": {
      "text/plain": [
       "array(['1', '2', '3'], dtype='<U11')"
      ]
     },
     "execution_count": 75,
     "metadata": {},
     "output_type": "execute_result"
    }
   ],
   "source": [
    "X = numpy.array([1, 2, '3'])\n",
    "X"
   ]
  },
  {
   "cell_type": "code",
   "execution_count": 76,
   "id": "a5f3a2ab-9227-4435-8304-fe3bce5bd141",
   "metadata": {},
   "outputs": [
    {
     "data": {
      "text/plain": [
       "array([1, 2, 3])"
      ]
     },
     "execution_count": 76,
     "metadata": {},
     "output_type": "execute_result"
    }
   ],
   "source": [
    "X.astype(numpy.int32)"
   ]
  },
  {
   "cell_type": "code",
   "execution_count": 78,
   "id": "927b63c4-0e34-426d-a4fa-f7a0b9b91f15",
   "metadata": {},
   "outputs": [
    {
     "data": {
      "text/plain": [
       "array(['1', '2', '3'], dtype='<U11')"
      ]
     },
     "execution_count": 78,
     "metadata": {},
     "output_type": "execute_result"
    }
   ],
   "source": [
    "X = np.array([1, 2, '3'])\n",
    "X"
   ]
  },
  {
   "cell_type": "code",
   "execution_count": 79,
   "id": "f6b9079f-cd28-49e8-9f04-0631de0cb695",
   "metadata": {},
   "outputs": [
    {
     "data": {
      "text/plain": [
       "array([1, 2, 3], dtype=int64)"
      ]
     },
     "execution_count": 79,
     "metadata": {},
     "output_type": "execute_result"
    }
   ],
   "source": [
    "X.astype(np.int64)"
   ]
  },
  {
   "cell_type": "markdown",
   "id": "bf61ea8b-1873-4f2c-8e78-93e764de9b14",
   "metadata": {},
   "source": [
    "### 난수 생성 함수"
   ]
  },
  {
   "cell_type": "code",
   "execution_count": 3,
   "id": "91a73ac1-1437-4f39-8b6a-c543549c1237",
   "metadata": {},
   "outputs": [
    {
     "data": {
      "text/plain": [
       "'1.23.4'"
      ]
     },
     "execution_count": 3,
     "metadata": {},
     "output_type": "execute_result"
    }
   ],
   "source": [
    "import numpy as np\n",
    "\n",
    "np.__version__"
   ]
  },
  {
   "cell_type": "markdown",
   "id": "c2ddc851-2671-406e-80bd-aa644dfa4620",
   "metadata": {},
   "source": [
    "# random.random()\n",
    "  [0.0, 1.0) 사이의 난수 생성"
   ]
  },
  {
   "cell_type": "code",
   "execution_count": 6,
   "id": "69f35920-3e19-48b7-a7ab-7e02af954731",
   "metadata": {},
   "outputs": [
    {
     "data": {
      "text/plain": [
       "array([0.69584745, 0.27327769, 0.36340915])"
      ]
     },
     "execution_count": 6,
     "metadata": {},
     "output_type": "execute_result"
    }
   ],
   "source": [
    "np.random.random(3)"
   ]
  },
  {
   "cell_type": "code",
   "execution_count": 7,
   "id": "863028cc-119e-4818-b973-004cd8099ea7",
   "metadata": {},
   "outputs": [
    {
     "data": {
      "text/plain": [
       "array([0.73411508, 0.89840221, 0.38430211])"
      ]
     },
     "execution_count": 7,
     "metadata": {},
     "output_type": "execute_result"
    }
   ],
   "source": [
    "np.random.random(3)"
   ]
  },
  {
   "cell_type": "code",
   "execution_count": 8,
   "id": "45be94e6-dd63-4137-8e2a-dda95137c045",
   "metadata": {},
   "outputs": [
    {
     "data": {
      "text/plain": [
       "array([[0.93197113, 0.66807791],\n",
       "       [0.1173746 , 0.91285058]])"
      ]
     },
     "execution_count": 8,
     "metadata": {},
     "output_type": "execute_result"
    }
   ],
   "source": [
    "np.random.random((2, 2))"
   ]
  },
  {
   "cell_type": "code",
   "execution_count": 9,
   "id": "8b4340ff-8af4-4484-926e-e2fe490af6d7",
   "metadata": {},
   "outputs": [],
   "source": [
    "# random, random_sample(), rand()"
   ]
  },
  {
   "cell_type": "code",
   "execution_count": 10,
   "id": "210fc766-8568-478f-addb-54509a49a6f3",
   "metadata": {},
   "outputs": [
    {
     "data": {
      "text/plain": [
       "array([[0.37417459, 0.04878934],\n",
       "       [0.38834511, 0.7295111 ],\n",
       "       [0.0677878 , 0.16771102]])"
      ]
     },
     "execution_count": 10,
     "metadata": {},
     "output_type": "execute_result"
    }
   ],
   "source": [
    "np.random.rand(3, 2)"
   ]
  },
  {
   "cell_type": "markdown",
   "id": "58fcb05c-3b49-4b70-bb1b-5a873f6cf20e",
   "metadata": {},
   "source": [
    "### 표준정규분포 추출 randn()"
   ]
  },
  {
   "cell_type": "code",
   "execution_count": 11,
   "id": "a219bdda-2312-4352-ae61-db0736345640",
   "metadata": {},
   "outputs": [
    {
     "data": {
      "text/plain": [
       "array([[ 0.15245328,  0.80167762],\n",
       "       [ 0.13177757,  1.03699232],\n",
       "       [ 0.31880472, -0.8782329 ]])"
      ]
     },
     "execution_count": 11,
     "metadata": {},
     "output_type": "execute_result"
    }
   ],
   "source": [
    "np.random.randn(3, 2)"
   ]
  },
  {
   "cell_type": "markdown",
   "id": "5e78a167-56c5-4c68-94bb-0b0393d21946",
   "metadata": {
    "tags": []
   },
   "source": [
    "### 정수 추출 randint()"
   ]
  },
  {
   "cell_type": "code",
   "execution_count": 24,
   "id": "42a41ae2-fa59-4811-87c6-a5e982ec5f16",
   "metadata": {},
   "outputs": [
    {
     "data": {
      "text/plain": [
       "array([[24, 19, 12,  5,  6, 19]])"
      ]
     },
     "execution_count": 24,
     "metadata": {},
     "output_type": "execute_result"
    }
   ],
   "source": [
    "np.random.randint(1, 45, (1,6))"
   ]
  },
  {
   "cell_type": "code",
   "execution_count": 25,
   "id": "11c15d19-4e30-4ac2-b87e-4d321450c126",
   "metadata": {},
   "outputs": [
    {
     "data": {
      "text/plain": [
       "array([[15, 31,  1, 22,  6, 28]])"
      ]
     },
     "execution_count": 25,
     "metadata": {},
     "output_type": "execute_result"
    }
   ],
   "source": [
    "np.random.randint(1, 45, (1,6))"
   ]
  },
  {
   "cell_type": "code",
   "execution_count": 26,
   "id": "3dbe8b48-834d-40a1-9bb8-cb94d62f112f",
   "metadata": {},
   "outputs": [
    {
     "data": {
      "text/plain": [
       "array([[ 3, 10, 38, 38,  9, 43]])"
      ]
     },
     "execution_count": 26,
     "metadata": {},
     "output_type": "execute_result"
    }
   ],
   "source": [
    "np.random.randint(1, 45, (1,6))"
   ]
  },
  {
   "cell_type": "code",
   "execution_count": 27,
   "id": "26312748-c467-4be7-aa59-aa61fd21272b",
   "metadata": {},
   "outputs": [
    {
     "data": {
      "text/plain": [
       "array([[29, 42,  9, 29, 16, 24]])"
      ]
     },
     "execution_count": 27,
     "metadata": {},
     "output_type": "execute_result"
    }
   ],
   "source": [
    "np.random.randint(1, 45, (1,6))"
   ]
  },
  {
   "cell_type": "code",
   "execution_count": 28,
   "id": "a3aca304-282c-4d3d-aad4-62d71b938e07",
   "metadata": {},
   "outputs": [
    {
     "data": {
      "text/plain": [
       "array([[26, 30, 29,  9, 12, 36]])"
      ]
     },
     "execution_count": 28,
     "metadata": {},
     "output_type": "execute_result"
    }
   ],
   "source": [
    "np.random.randint(1, 45, (1,6))"
   ]
  },
  {
   "cell_type": "code",
   "execution_count": 32,
   "id": "04b5e13f-faee-42e2-8690-677d31a1afe6",
   "metadata": {},
   "outputs": [
    {
     "data": {
      "text/plain": [
       "array([0.30098161, 0.54029727, 0.37349729])"
      ]
     },
     "execution_count": 32,
     "metadata": {},
     "output_type": "execute_result"
    }
   ],
   "source": [
    "np.random.seed(2002)\n",
    "np.random.randn(3)"
   ]
  },
  {
   "cell_type": "markdown",
   "id": "916a404a-8644-4801-9226-fbd462379d62",
   "metadata": {},
   "source": [
    "### 연산"
   ]
  },
  {
   "cell_type": "code",
   "execution_count": 34,
   "id": "e1a402c9-e626-446e-9d16-7171020112bd",
   "metadata": {},
   "outputs": [],
   "source": [
    "x = np.array([[1, 2],\n",
    "              [3, 4]])\n",
    "y = np.array([[5, 6],\n",
    "              [7, 8]])"
   ]
  },
  {
   "cell_type": "code",
   "execution_count": 35,
   "id": "38b98591-46a9-4930-8cb8-50943c70a204",
   "metadata": {},
   "outputs": [
    {
     "data": {
      "text/plain": [
       "array([[ 6,  8],\n",
       "       [10, 12]])"
      ]
     },
     "execution_count": 35,
     "metadata": {},
     "output_type": "execute_result"
    }
   ],
   "source": [
    "x + y"
   ]
  },
  {
   "cell_type": "code",
   "execution_count": 44,
   "id": "c348e24b-646e-458b-b061-88e15e2bfc83",
   "metadata": {},
   "outputs": [
    {
     "data": {
      "text/plain": [
       "(array([[ 6,  8],\n",
       "        [10, 12]]),\n",
       " array([[-4, -4],\n",
       "        [-4, -4]]),\n",
       " array([[0.2       , 0.33333333],\n",
       "        [0.42857143, 0.5       ]]),\n",
       " array([[4, 4],\n",
       "        [4, 4]]))"
      ]
     },
     "execution_count": 44,
     "metadata": {},
     "output_type": "execute_result"
    }
   ],
   "source": [
    "np.add(x, y), np.subtract(x, y), np.divide(x, y), np.subtract(y, x)"
   ]
  },
  {
   "cell_type": "code",
   "execution_count": 39,
   "id": "7fa18f31-cfd9-482d-974b-8ebf82376280",
   "metadata": {},
   "outputs": [
    {
     "data": {
      "text/plain": [
       "(array([[ 5, 12],\n",
       "        [21, 32]]),\n",
       " array([[ 5, 12],\n",
       "        [21, 32]]))"
      ]
     },
     "execution_count": 39,
     "metadata": {},
     "output_type": "execute_result"
    }
   ],
   "source": [
    "x * y, np.multiply(x, y)"
   ]
  },
  {
   "cell_type": "code",
   "execution_count": 42,
   "id": "d5a6b7d2-aeb5-46a2-89f7-552bdc19dac8",
   "metadata": {},
   "outputs": [
    {
     "data": {
      "text/plain": [
       "array([[19, 22],\n",
       "       [43, 50]])"
      ]
     },
     "execution_count": 42,
     "metadata": {},
     "output_type": "execute_result"
    }
   ],
   "source": [
    "x @ y"
   ]
  },
  {
   "cell_type": "code",
   "execution_count": 45,
   "id": "2165e619-c4dc-4f0f-9c60-d3979f8805be",
   "metadata": {},
   "outputs": [
    {
     "data": {
      "text/plain": [
       "array([[19, 22],\n",
       "       [43, 50]])"
      ]
     },
     "execution_count": 45,
     "metadata": {},
     "output_type": "execute_result"
    }
   ],
   "source": [
    "np.dot(x, y)"
   ]
  },
  {
   "cell_type": "code",
   "execution_count": 46,
   "id": "cedf3c9a-dbf0-457b-98e3-aeb6cb74047f",
   "metadata": {},
   "outputs": [
    {
     "data": {
      "text/plain": [
       "array([[19, 22],\n",
       "       [43, 50]])"
      ]
     },
     "execution_count": 46,
     "metadata": {},
     "output_type": "execute_result"
    }
   ],
   "source": [
    "np.matmul(x, y)"
   ]
  },
  {
   "cell_type": "code",
   "execution_count": 49,
   "id": "452ef43d-5b0d-4e6d-84fb-872c459f32f9",
   "metadata": {},
   "outputs": [],
   "source": [
    "x = np.array([1, 2, 3, 4])\n",
    "y = np.array([5, 6, 7, 8])"
   ]
  },
  {
   "cell_type": "code",
   "execution_count": 50,
   "id": "45abb5d8-f5ae-4433-ad2f-873fde2411c6",
   "metadata": {},
   "outputs": [
    {
     "data": {
      "text/plain": [
       "70"
      ]
     },
     "execution_count": 50,
     "metadata": {},
     "output_type": "execute_result"
    }
   ],
   "source": [
    "np.matmul(x, y)"
   ]
  },
  {
   "cell_type": "markdown",
   "id": "428bf62d-0272-44ae-abfb-7b239884e97c",
   "metadata": {},
   "source": [
    "### np.argmax() : 생성된 난수 중 최대값의 인덱스 추출"
   ]
  },
  {
   "cell_type": "code",
   "execution_count": 58,
   "id": "94a27728-ca3d-4487-b7ae-c327d9001290",
   "metadata": {},
   "outputs": [
    {
     "data": {
      "text/plain": [
       "array([[ 0.94979693, -0.60546144,  0.92324536, -0.33783233],\n",
       "       [-0.04684576, -0.9564582 , -0.28689651, -1.64117434],\n",
       "       [-2.01449175, -0.38067858,  0.84070035, -1.0659891 ],\n",
       "       [ 0.39253668, -0.01708306,  0.57996853,  0.17081044],\n",
       "       [ 0.25746521, -0.1747546 , -0.26220762, -1.492324  ]])"
      ]
     },
     "execution_count": 58,
     "metadata": {},
     "output_type": "execute_result"
    }
   ],
   "source": [
    "x = np.random.randn(5,4)\n",
    "x"
   ]
  },
  {
   "cell_type": "code",
   "execution_count": 69,
   "id": "f32b88c4-ca1b-4b1f-bb06-d29681d4a641",
   "metadata": {},
   "outputs": [
    {
     "data": {
      "text/plain": [
       "(array([0, 0, 2, 2, 0], dtype=int64), array([0, 3, 0, 3], dtype=int64))"
      ]
     },
     "execution_count": 69,
     "metadata": {},
     "output_type": "execute_result"
    }
   ],
   "source": [
    "np.argmax(x, axis=1), np.argmax(x, axis=0)"
   ]
  },
  {
   "cell_type": "markdown",
   "id": "fe55500f-ceae-478d-a5c2-16fa9967e109",
   "metadata": {
    "tags": []
   },
   "source": [
    "### 저장하기 savez()"
   ]
  },
  {
   "cell_type": "code",
   "execution_count": 70,
   "id": "51764e05-8ee1-456e-8e6c-2b7e867ef8cb",
   "metadata": {},
   "outputs": [
    {
     "data": {
      "text/plain": [
       "array([[-0.51367482,  0.30232325, -1.68503559,  1.81021357],\n",
       "       [-0.23144082, -0.48362959, -1.21067889, -1.73535342],\n",
       "       [-0.92426992,  0.95416358,  1.12984836, -0.59711258],\n",
       "       [-0.67519295,  2.32168905,  1.58295323, -1.54052915],\n",
       "       [ 1.44616767,  0.18427423,  0.21413282, -0.87147387]])"
      ]
     },
     "execution_count": 70,
     "metadata": {},
     "output_type": "execute_result"
    }
   ],
   "source": [
    "x = np.random.randn(5, 4)\n",
    "y = np.random.randn(3, 3)\n",
    "x"
   ]
  },
  {
   "cell_type": "code",
   "execution_count": 71,
   "id": "5b948940-7a28-460d-b417-8d92637f7af3",
   "metadata": {},
   "outputs": [
    {
     "data": {
      "text/plain": [
       "array([[-1.25398238,  1.14069901,  0.20168216],\n",
       "       [ 1.97784089,  0.00610091,  0.63417783],\n",
       "       [ 0.70990048, -1.080778  ,  0.32832685]])"
      ]
     },
     "execution_count": 71,
     "metadata": {},
     "output_type": "execute_result"
    }
   ],
   "source": [
    "y"
   ]
  },
  {
   "cell_type": "code",
   "execution_count": 72,
   "id": "5ef66132-d1c7-45ba-84f0-0144ad982ff1",
   "metadata": {},
   "outputs": [],
   "source": [
    "np.savez('mydata.npz', xvar=x, yvar=y)"
   ]
  },
  {
   "cell_type": "markdown",
   "id": "61eba614-8aec-4941-ae6e-4f692849df24",
   "metadata": {},
   "source": [
    "### 모델생성"
   ]
  },
  {
   "cell_type": "code",
   "execution_count": 75,
   "id": "49d6b18a-c650-4383-a926-ae1420f6e02f",
   "metadata": {},
   "outputs": [],
   "source": [
    "### 파일 로딩\n",
    "\n",
    "mydata = np. load('mydata.npz')"
   ]
  },
  {
   "cell_type": "code",
   "execution_count": 74,
   "id": "858c7dc2-24ad-4663-9b34-be63c9f32901",
   "metadata": {},
   "outputs": [
    {
     "data": {
      "text/plain": [
       "array([[-0.51367482,  0.30232325, -1.68503559,  1.81021357],\n",
       "       [-0.23144082, -0.48362959, -1.21067889, -1.73535342],\n",
       "       [-0.92426992,  0.95416358,  1.12984836, -0.59711258],\n",
       "       [-0.67519295,  2.32168905,  1.58295323, -1.54052915],\n",
       "       [ 1.44616767,  0.18427423,  0.21413282, -0.87147387]])"
      ]
     },
     "execution_count": 74,
     "metadata": {},
     "output_type": "execute_result"
    }
   ],
   "source": [
    "x = mydata['xvar']\n",
    "x"
   ]
  },
  {
   "cell_type": "code",
   "execution_count": 77,
   "id": "9bfba760-281f-43b9-9002-55a6ff043be0",
   "metadata": {},
   "outputs": [
    {
     "data": {
      "text/plain": [
       "array([[-1.25398238,  1.14069901,  0.20168216],\n",
       "       [ 1.97784089,  0.00610091,  0.63417783],\n",
       "       [ 0.70990048, -1.080778  ,  0.32832685]])"
      ]
     },
     "execution_count": 77,
     "metadata": {},
     "output_type": "execute_result"
    }
   ],
   "source": [
    "y = mydata['yvar']\n",
    "y"
   ]
  },
  {
   "cell_type": "code",
   "execution_count": null,
   "id": "87129cfd-d101-486d-80e8-4cdec58a8195",
   "metadata": {},
   "outputs": [],
   "source": []
  }
 ],
 "metadata": {
  "kernelspec": {
   "display_name": "flyai",
   "language": "python",
   "name": "flyai"
  },
  "language_info": {
   "codemirror_mode": {
    "name": "ipython",
    "version": 3
   },
   "file_extension": ".py",
   "mimetype": "text/x-python",
   "name": "python",
   "nbconvert_exporter": "python",
   "pygments_lexer": "ipython3",
   "version": "3.8.15"
  }
 },
 "nbformat": 4,
 "nbformat_minor": 5
}
